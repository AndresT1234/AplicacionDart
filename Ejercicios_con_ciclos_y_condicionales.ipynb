{
  "nbformat": 4,
  "nbformat_minor": 0,
  "metadata": {
    "colab": {
      "provenance": [],
      "include_colab_link": true
    },
    "kernelspec": {
      "name": "python3",
      "display_name": "Python 3"
    }
  },
  "cells": [
    {
      "cell_type": "markdown",
      "metadata": {
        "id": "view-in-github",
        "colab_type": "text"
      },
      "source": [
        "<a href=\"https://colab.research.google.com/github/AndresT1234/AplicacionDart/blob/main/Ejercicios_con_ciclos_y_condicionales.ipynb\" target=\"_parent\"><img src=\"https://colab.research.google.com/assets/colab-badge.svg\" alt=\"Open In Colab\"/></a>"
      ]
    },
    {
      "cell_type": "markdown",
      "metadata": {
        "id": "TqZHf8G-H7Ew"
      },
      "source": [
        "**Ejercicios con ciclos y condicionales**\n",
        "\n",
        "**Realizado por John Fernando Vargas**"
      ]
    },
    {
      "cell_type": "markdown",
      "metadata": {
        "id": "pdGwXC3VIIeL"
      },
      "source": [
        "En un mensaje indique que el clima es frío si la temperatura es menor a 15 grados, que el clima es templado si la temperatura está entre 15 y 25 grados, que el clima va a estar caliente si la temperatura está entre 26 y 30 grados, y que el clima va a ser infernal si la temperatura es superior a 31 grados.\n",
        "Las instrucciones que encuentra al principio, generan un número aleatorio entre 10 y 39 grados"
      ]
    },
    {
      "cell_type": "code",
      "metadata": {
        "id": "nRe47ynVLZTH"
      },
      "source": [
        "import numpy as np\n",
        "temperatura=np.random.randint(10,40)\n",
        "print(temperatura)\n",
        "\n",
        "#Escriba su código a continuación:\n",
        "\n",
        "if temperature < 15:\n",
        "  print(\"el clima es frio.\")\n",
        "elif temperature >= 15 and temperature <= 25:\n",
        "  print(\"el clima es templado\")\n",
        "elif temperature >= 26 and temperature <= 30:\n",
        "  print(\"el clima va estar caliente.\")\n",
        "else:\n",
        "  print(\"el clima va ser infernal.\")\n",
        "\n",
        "#Fin de su código"
      ],
      "execution_count": null,
      "outputs": []
    },
    {
      "cell_type": "markdown",
      "metadata": {
        "id": "FqqerItdL9Gt"
      },
      "source": [
        "Recorriendo una lista:\n",
        "\n",
        "Recorra la lista \"x\" de manera que se presente un mensaje para cada elemento que dice:\n",
        "\n",
        "En la posición (el índice) se encuentra el valor (el valor correspondiente)."
      ]
    },
    {
      "cell_type": "code",
      "metadata": {
        "id": "yoqEAai9NTYh"
      },
      "source": [
        "import numpy as np\n",
        "x=np.random.randint(5,21,10)\n",
        "print(x)\n",
        "#Escriba su código a continuación:\n",
        "\n",
        "\n",
        "\n",
        "\n",
        "#Fin de su código"
      ],
      "execution_count": null,
      "outputs": []
    },
    {
      "cell_type": "markdown",
      "metadata": {
        "id": "VHJTsBhxNUHY"
      },
      "source": [
        "Para el ejercicio \"Recorriendo una lista\" en caso de encontrarse con el número 15 el programa debe terminar su ejecución"
      ]
    },
    {
      "cell_type": "code",
      "metadata": {
        "id": "zzPF0QaTNe2u"
      },
      "source": [],
      "execution_count": null,
      "outputs": []
    },
    {
      "cell_type": "markdown",
      "metadata": {
        "id": "Nlz4rawwNfTo"
      },
      "source": [
        "Para el ejercicio \"Recorriendo una lista\" en caso de encontrarse con el número 15 el programa debe presentar un mensaje que diga \"Hoy estoy afortunado\" pero no debe mostrar el mensaje relacionado con el índice."
      ]
    },
    {
      "cell_type": "code",
      "metadata": {
        "id": "ow0HxX0_Wkha"
      },
      "source": [],
      "execution_count": null,
      "outputs": []
    },
    {
      "cell_type": "markdown",
      "metadata": {
        "id": "nx5PVmksTQ3e"
      },
      "source": [
        "Las listas a y b se generan aleatoriamente:\n",
        "\n",
        "Asegúrese de que se eliminen los valores que tengan repetidos (utilice la función set). En caso de que en ambas listas aprezcan elementos similares indique con un mensaje los elementos que comparten:\n",
        "\n",
        "\"La intersección de las listas es... ( )\"\n",
        "\n",
        "En caso de que no compartan elementos presente el siguiente mensaje:\n",
        "\n",
        "\"Los conjuntos son disjuntos\""
      ]
    },
    {
      "cell_type": "code",
      "metadata": {
        "id": "03IH-m7rU0_-"
      },
      "source": [
        "import numpy as np\n",
        "a=np.random.randint(0,11,7)\n",
        "print(a)\n",
        "b=np.random.randint(0,6,5)\n",
        "print(b)\n",
        "\n",
        "#Escriba su código a continuación:\n",
        "\n",
        "\n",
        "\n",
        "#Fin de su código"
      ],
      "execution_count": null,
      "outputs": []
    }
  ]
}